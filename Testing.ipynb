{
 "cells": [
  {
   "cell_type": "code",
   "execution_count": 17,
   "id": "5a45b721",
   "metadata": {},
   "outputs": [
    {
     "data": {
      "application/vnd.jupyter.widget-view+json": {
       "model_id": "687d508b621c49eaa2b0b6c758d0ef12",
       "version_major": 2,
       "version_minor": 0
      },
      "text/plain": [
       "VBox()"
      ]
     },
     "metadata": {},
     "output_type": "display_data"
    },
    {
     "data": {
      "application/vnd.jupyter.widget-view+json": {
       "model_id": "",
       "version_major": 2,
       "version_minor": 0
      },
      "text/plain": [
       "FloatProgress(value=0.0, bar_style='info', description='Progress:', layout=Layout(height='25px', width='50%'),…"
      ]
     },
     "metadata": {},
     "output_type": "display_data"
    }
   ],
   "source": [
    "import configparser\n",
    "from datetime import datetime\n",
    "import os\n",
    "from pyspark.sql import SparkSession\n",
    "from pyspark.sql.functions import udf, col\n",
    "from pyspark.sql.functions import year, month, dayofmonth, hour, weekofyear, date_format, monotonically_increasing_id, dayofweek"
   ]
  },
  {
   "cell_type": "code",
   "execution_count": 15,
   "id": "bfc6851d",
   "metadata": {},
   "outputs": [
    {
     "data": {
      "application/vnd.jupyter.widget-view+json": {
       "model_id": "cb91bc657b4d4348bfb134ea5ed83179",
       "version_major": 2,
       "version_minor": 0
      },
      "text/plain": [
       "VBox()"
      ]
     },
     "metadata": {},
     "output_type": "display_data"
    },
    {
     "data": {
      "application/vnd.jupyter.widget-view+json": {
       "model_id": "",
       "version_major": 2,
       "version_minor": 0
      },
      "text/plain": [
       "FloatProgress(value=0.0, bar_style='info', description='Progress:', layout=Layout(height='25px', width='50%'),…"
      ]
     },
     "metadata": {},
     "output_type": "display_data"
    }
   ],
   "source": [
    "def process_song_data(spark, input_data, output_data):\n",
    "    \"\"\"\n",
    "    Saving Songs Data as Parquet after Modeling\n",
    "    \"\"\"\n",
    "    # read song data file\n",
    "    df = spark.read.json(f\"{input_data}/song_data/A/A/A/*.json\")\n",
    "\n",
    "    # extract columns to create songs table\n",
    "    songs_table = df.select(\n",
    "        [\"song_id\", \"title\", \"artist_id\", \"year\", \"duration\"]\n",
    "    ).dropDuplicates()\n",
    "\n",
    "    # write songs table to parquet files partitioned by year and artist\n",
    "    songs_table.write.partitionBy(\"year\", \"artist_id\").parquet(f\"{output_data}/songs\", mode=\"overwrite\")\n",
    "\n",
    "    # extract columns to create artists table\n",
    "    artists_table = df.select(\n",
    "        [\n",
    "            \"artist_id\",\n",
    "            \"artist_name\",\n",
    "            \"artist_location\",\n",
    "            \"artist_latitude\",\n",
    "            \"artist_longitude\",\n",
    "        ]\n",
    "    ).dropDuplicates()\n",
    "\n",
    "    # write artists table to parquet files\n",
    "    artists_table.write.parquet(f\"{output_data}/logs\", mode=\"overwrite\")\n",
    "\n",
    "\n",
    "\n",
    "def process_log_data(spark, input_data, output_data):\n",
    "    \"\"\"\n",
    "    Saving Logs Data as Parquet after Modeling\n",
    "    \"\"\"\n",
    "    # read log data file\n",
    "    df = spark.read.json(f\"{input_data}/log_data/*/*/*.json\")\n",
    "\n",
    "    # filter by actions for song plays\n",
    "    df = df.filter(\"page = 'NextSong'\")\n",
    "\n",
    "    # extract columns for users table\n",
    "    users_table = df.select(\n",
    "        [\"userId\", \"firstName\", \"lastName\", \"gender\", \"level\"]\n",
    "    ).dropDuplicates()\n",
    "\n",
    "    # write users table to parquet files\n",
    "    users_table.write.parquet(f\"{output_data}/users\", mode=\"overwrite\")\n",
    "\n",
    "    # create datetime column from original timestamp column\n",
    "    get_datetime = udf(lambda x: datetime.fromtimestamp(x / 1000))\n",
    "    df = df.withColumn(\"start_time\", get_datetime(\"ts\"))\n",
    "\n",
    "    \n",
    "    time_table = df.select(\"start_time\")\n",
    "    \n",
    "    # extract columns to create time table\n",
    "    time_table = time_table.withColumn(\"hour\", hour(\"start_time\"))\n",
    "    time_table = time_table.withColumn(\"day\", dayofmonth(\"start_time\"))\n",
    "    time_table = time_table.withColumn(\"week\", weekofyear(\"start_time\"))\n",
    "    time_table = time_table.withColumn(\"month\", month(\"start_time\"))\n",
    "    time_table = time_table.withColumn(\"year\", year(\"start_time\"))\n",
    "    time_table = time_table.withColumn(\"weekday\", dayofweek(\"start_time\"))\n",
    "\n",
    "    # write time table to parquet files partitioned by year and month\n",
    "    time_table.write.partitionBy(\"year\", \"month\").parquet(\n",
    "        f\"{output_data}/times\", mode=\"overwrite\"\n",
    "    )\n",
    "\n",
    "    # read in song data to use for songplays table\n",
    "    song_df = spark.read.json(f\"{input_data}/song_data/A/A/A/*.json\")\n",
    "\n",
    "    # extract columns from joined song and log datasets to create songplays table\n",
    "    df = df.orderBy(\"ts\")\n",
    "    df = df.withColumn(\"songplay_id\", monotonically_increasing_id())\n",
    "\n",
    "    song_df.createOrReplaceTempView(\"songs\")\n",
    "    df.createOrReplaceTempView(\"events\")\n",
    "\n",
    "    songplays_table = spark.sql(\n",
    "        \"\"\"\n",
    "        SELECT e.songplay_id,\n",
    "               e.start_time,\n",
    "               e.userId AS user_id,\n",
    "               e.level,\n",
    "               s.song_id,\n",
    "               s.artist_id,\n",
    "               e.sessionId AS session_id,\n",
    "               e.location,\n",
    "               e.userAgent AS user_agent,\n",
    "               year(e.start_time) AS YEAR,\n",
    "               month(e.start_time) AS MONTH\n",
    "        FROM EVENTS e\n",
    "        LEFT JOIN songs s ON e.song = s.title\n",
    "        AND e.artist = s.artist_name\n",
    "        \"\"\"\n",
    "    )\n",
    "\n",
    "    # write songplays table to parquet files partitioned by year and month\n",
    "    songplays_table.write.parquet(\n",
    "        f\"{output_data}/songplays\", partitionBy=[\"year\", \"month\"], mode=\"overwrite\"\n",
    "    )\n"
   ]
  },
  {
   "cell_type": "code",
   "execution_count": 12,
   "id": "9de6f245",
   "metadata": {},
   "outputs": [
    {
     "data": {
      "application/vnd.jupyter.widget-view+json": {
       "model_id": "02943756ba2e411aab1ca1fbd387ba3c",
       "version_major": 2,
       "version_minor": 0
      },
      "text/plain": [
       "VBox()"
      ]
     },
     "metadata": {},
     "output_type": "display_data"
    },
    {
     "data": {
      "application/vnd.jupyter.widget-view+json": {
       "model_id": "",
       "version_major": 2,
       "version_minor": 0
      },
      "text/plain": [
       "FloatProgress(value=0.0, bar_style='info', description='Progress:', layout=Layout(height='25px', width='50%'),…"
      ]
     },
     "metadata": {},
     "output_type": "display_data"
    }
   ],
   "source": [
    "input_data = \"s3a://udacity-dend/\"\n",
    "output_data = \"s3://dlsavingdata/\""
   ]
  },
  {
   "cell_type": "code",
   "execution_count": 13,
   "id": "f053bcd2",
   "metadata": {},
   "outputs": [
    {
     "data": {
      "application/vnd.jupyter.widget-view+json": {
       "model_id": "9d2630b7cf054708a42806defdb2843f",
       "version_major": 2,
       "version_minor": 0
      },
      "text/plain": [
       "VBox()"
      ]
     },
     "metadata": {},
     "output_type": "display_data"
    },
    {
     "data": {
      "application/vnd.jupyter.widget-view+json": {
       "model_id": "",
       "version_major": 2,
       "version_minor": 0
      },
      "text/plain": [
       "FloatProgress(value=0.0, bar_style='info', description='Progress:', layout=Layout(height='25px', width='50%'),…"
      ]
     },
     "metadata": {},
     "output_type": "display_data"
    }
   ],
   "source": [
    "process_song_data(spark, input_data, output_data)  "
   ]
  },
  {
   "cell_type": "code",
   "execution_count": 18,
   "id": "f22c1ae1",
   "metadata": {},
   "outputs": [
    {
     "data": {
      "application/vnd.jupyter.widget-view+json": {
       "model_id": "35ba4823952e45e8923db97ba9c7ad21",
       "version_major": 2,
       "version_minor": 0
      },
      "text/plain": [
       "VBox()"
      ]
     },
     "metadata": {},
     "output_type": "display_data"
    },
    {
     "data": {
      "application/vnd.jupyter.widget-view+json": {
       "model_id": "",
       "version_major": 2,
       "version_minor": 0
      },
      "text/plain": [
       "FloatProgress(value=0.0, bar_style='info', description='Progress:', layout=Layout(height='25px', width='50%'),…"
      ]
     },
     "metadata": {},
     "output_type": "display_data"
    },
    {
     "name": "stdout",
     "output_type": "stream",
     "text": [
      "----------------------------------------\n",
      "Exception happened during processing of request from ('127.0.0.1', 40040)\n",
      "Traceback (most recent call last):\n",
      "  File \"/usr/lib64/python3.6/socketserver.py\", line 320, in _handle_request_noblock\n",
      "    self.process_request(request, client_address)\n",
      "  File \"/usr/lib64/python3.6/socketserver.py\", line 351, in process_request\n",
      "    self.finish_request(request, client_address)\n",
      "  File \"/usr/lib64/python3.6/socketserver.py\", line 364, in finish_request\n",
      "    self.RequestHandlerClass(request, client_address, self)\n",
      "  File \"/usr/lib64/python3.6/socketserver.py\", line 724, in __init__\n",
      "    self.handle()\n",
      "  File \"/usr/lib/spark/python/lib/pyspark.zip/pyspark/accumulators.py\", line 266, in handle\n",
      "    poll(authenticate_and_accum_updates)\n",
      "  File \"/usr/lib/spark/python/lib/pyspark.zip/pyspark/accumulators.py\", line 241, in poll\n",
      "    if func():\n",
      "  File \"/usr/lib/spark/python/lib/pyspark.zip/pyspark/accumulators.py\", line 254, in authenticate_and_accum_updates\n",
      "    received_token = self.rfile.read(len(auth_token))\n",
      "TypeError: object of type 'NoneType' has no len()\n",
      "----------------------------------------"
     ]
    }
   ],
   "source": [
    "process_log_data(spark, input_data, output_data)"
   ]
  },
  {
   "cell_type": "code",
   "execution_count": null,
   "id": "6da55529",
   "metadata": {},
   "outputs": [],
   "source": []
  }
 ],
 "metadata": {
  "kernelspec": {
   "display_name": "PySpark",
   "language": "",
   "name": "pysparkkernel"
  },
  "language_info": {
   "codemirror_mode": {
    "name": "python",
    "version": 2
   },
   "mimetype": "text/x-python",
   "name": "pyspark",
   "pygments_lexer": "python2"
  }
 },
 "nbformat": 4,
 "nbformat_minor": 5
}
